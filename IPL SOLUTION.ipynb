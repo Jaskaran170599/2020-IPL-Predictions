{
 "cells": [
  {
   "cell_type": "code",
   "execution_count": 196,
   "metadata": {},
   "outputs": [],
   "source": [
    "import pandas as pd\n",
    "import matplotlib.pyplot as plt\n",
    "import seaborn as sns\n",
    "import scipy\n",
    "import xgboost\n",
    "import lightgbm\n",
    "import statsmodels.api as sm\n",
    "\n",
    "from sklearn.linear_model import LinearRegression\n",
    "from sklearn.svm import SVR,LinearSVR\n",
    "from sklearn.ensemble import RandomForestRegressor\n",
    "\n",
    "from sklearn.model_selection import train_test_split\n",
    "from sklearn.metrics import r2_score,mean_absolute_error,mean_squared_error\n",
    "from sklearn.feature_selection import RFE\n",
    "\n",
    "import warnings\n",
    "warnings.filterwarnings(\"ignore\")\n"
   ]
  },
  {
   "cell_type": "code",
   "execution_count": 312,
   "metadata": {},
   "outputs": [],
   "source": [
    "data=pd.read_excel(\"./Data.xlsx\",sheet_name=0)\n",
    "test_data=pd.read_excel(\"./Data.xlsx\",sheet_name=1)"
   ]
  },
  {
   "cell_type": "code",
   "execution_count": 313,
   "metadata": {},
   "outputs": [],
   "source": [
    "#preprocessing for HS and Avg\n",
    "def high_score_process(data):\n",
    "    data['HS_out']=data['HS'].apply(lambda x :1 if isinstance(x, str) else 0)\n",
    "    data['HS']=data['HS'].apply(lambda x :int(x[:-1]) if isinstance(x, str) else x)\n",
    "    data['Avg']=data['Avg'].apply(lambda x:float(x) if not isinstance(x, str) else 0)\n",
    "    return data\n",
    "data=high_score_process(data)\n",
    "test_data=high_score_process(test_data)"
   ]
  },
  {
   "cell_type": "code",
   "execution_count": 199,
   "metadata": {},
   "outputs": [
    {
     "data": {
      "text/html": [
       "<div>\n",
       "<style scoped>\n",
       "    .dataframe tbody tr th:only-of-type {\n",
       "        vertical-align: middle;\n",
       "    }\n",
       "\n",
       "    .dataframe tbody tr th {\n",
       "        vertical-align: top;\n",
       "    }\n",
       "\n",
       "    .dataframe thead th {\n",
       "        text-align: right;\n",
       "    }\n",
       "</style>\n",
       "<table border=\"1\" class=\"dataframe\">\n",
       "  <thead>\n",
       "    <tr style=\"text-align: right;\">\n",
       "      <th></th>\n",
       "      <th>PLAYER</th>\n",
       "      <th>Mat</th>\n",
       "      <th>Inns</th>\n",
       "      <th>NO</th>\n",
       "      <th>2018_Runs</th>\n",
       "      <th>HS</th>\n",
       "      <th>Avg</th>\n",
       "      <th>BF</th>\n",
       "      <th>SR</th>\n",
       "      <th>100</th>\n",
       "      <th>50</th>\n",
       "      <th>4s</th>\n",
       "      <th>6s</th>\n",
       "      <th>2019_Runs</th>\n",
       "      <th>HS_out</th>\n",
       "    </tr>\n",
       "  </thead>\n",
       "  <tbody>\n",
       "    <tr>\n",
       "      <th>0</th>\n",
       "      <td>Aaron Finch</td>\n",
       "      <td>10</td>\n",
       "      <td>9</td>\n",
       "      <td>1</td>\n",
       "      <td>134</td>\n",
       "      <td>46</td>\n",
       "      <td>16.75</td>\n",
       "      <td>100</td>\n",
       "      <td>134.00</td>\n",
       "      <td>0</td>\n",
       "      <td>0</td>\n",
       "      <td>6</td>\n",
       "      <td>8</td>\n",
       "      <td>160</td>\n",
       "      <td>0</td>\n",
       "    </tr>\n",
       "    <tr>\n",
       "      <th>1</th>\n",
       "      <td>AB de Villiers</td>\n",
       "      <td>12</td>\n",
       "      <td>11</td>\n",
       "      <td>2</td>\n",
       "      <td>480</td>\n",
       "      <td>90</td>\n",
       "      <td>53.33</td>\n",
       "      <td>275</td>\n",
       "      <td>174.54</td>\n",
       "      <td>0</td>\n",
       "      <td>6</td>\n",
       "      <td>39</td>\n",
       "      <td>30</td>\n",
       "      <td>424</td>\n",
       "      <td>1</td>\n",
       "    </tr>\n",
       "    <tr>\n",
       "      <th>2</th>\n",
       "      <td>Abhishek Sharma</td>\n",
       "      <td>3</td>\n",
       "      <td>3</td>\n",
       "      <td>2</td>\n",
       "      <td>63</td>\n",
       "      <td>46</td>\n",
       "      <td>63.00</td>\n",
       "      <td>33</td>\n",
       "      <td>190.90</td>\n",
       "      <td>0</td>\n",
       "      <td>0</td>\n",
       "      <td>3</td>\n",
       "      <td>5</td>\n",
       "      <td>63</td>\n",
       "      <td>1</td>\n",
       "    </tr>\n",
       "    <tr>\n",
       "      <th>3</th>\n",
       "      <td>Ajinkya Rahane</td>\n",
       "      <td>15</td>\n",
       "      <td>14</td>\n",
       "      <td>1</td>\n",
       "      <td>370</td>\n",
       "      <td>65</td>\n",
       "      <td>28.46</td>\n",
       "      <td>313</td>\n",
       "      <td>118.21</td>\n",
       "      <td>0</td>\n",
       "      <td>1</td>\n",
       "      <td>39</td>\n",
       "      <td>5</td>\n",
       "      <td>396</td>\n",
       "      <td>1</td>\n",
       "    </tr>\n",
       "    <tr>\n",
       "      <th>4</th>\n",
       "      <td>Alex Hales</td>\n",
       "      <td>6</td>\n",
       "      <td>6</td>\n",
       "      <td>0</td>\n",
       "      <td>148</td>\n",
       "      <td>45</td>\n",
       "      <td>24.66</td>\n",
       "      <td>118</td>\n",
       "      <td>125.42</td>\n",
       "      <td>0</td>\n",
       "      <td>0</td>\n",
       "      <td>13</td>\n",
       "      <td>6</td>\n",
       "      <td>165</td>\n",
       "      <td>0</td>\n",
       "    </tr>\n",
       "  </tbody>\n",
       "</table>\n",
       "</div>"
      ],
      "text/plain": [
       "            PLAYER  Mat  Inns  NO  2018_Runs  HS    Avg   BF      SR  100  50  \\\n",
       "0      Aaron Finch   10     9   1        134  46  16.75  100  134.00    0   0   \n",
       "1   AB de Villiers   12    11   2        480  90  53.33  275  174.54    0   6   \n",
       "2  Abhishek Sharma    3     3   2         63  46  63.00   33  190.90    0   0   \n",
       "3   Ajinkya Rahane   15    14   1        370  65  28.46  313  118.21    0   1   \n",
       "4       Alex Hales    6     6   0        148  45  24.66  118  125.42    0   0   \n",
       "\n",
       "   4s  6s  2019_Runs  HS_out  \n",
       "0   6   8        160       0  \n",
       "1  39  30        424       1  \n",
       "2   3   5         63       1  \n",
       "3  39   5        396       1  \n",
       "4  13   6        165       0  "
      ]
     },
     "execution_count": 199,
     "metadata": {},
     "output_type": "execute_result"
    }
   ],
   "source": [
    "data.head()"
   ]
  },
  {
   "cell_type": "code",
   "execution_count": 200,
   "metadata": {},
   "outputs": [],
   "source": [
    "#basic funtion to train and get metrics of various models\n",
    "def get_results(train_x,train_y,dev_x,dev_y):\n",
    "    \n",
    "    model=LinearRegression()\n",
    "    model.fit(train_x,train_y)\n",
    "    model.score(dev_x,dev_y)\n",
    "    print(\"Linear Regression : \",r2_score(dev_y,model.predict(dev_x)),mean_absolute_error(dev_y,model.predict(dev_x)),mean_squared_error(dev_y,model.predict(dev_x)))\n",
    "    print()\n",
    "    \n",
    "    model=RandomForestRegressor()\n",
    "    model.fit(train_x,train_y)\n",
    "    model.score(dev_x,dev_y)\n",
    "    print(\"Random Forest Regression : \",r2_score(dev_y,model.predict(dev_x)),mean_absolute_error(dev_y,model.predict(dev_x)),mean_squared_error(dev_y,model.predict(dev_x)))\n",
    "    print()\n",
    "    \n",
    "    model=SVR(C=10000,gamma='scale')\n",
    "    model.fit(train_x,train_y)\n",
    "    print(\"SVM Regression : \",r2_score(dev_y,model.predict(dev_x)),mean_absolute_error(dev_y,model.predict(dev_x)),mean_squared_error(dev_y,model.predict(dev_x)))\n",
    "    print()\n",
    "    \n",
    "    model=LinearSVR(C=1000,max_iter=10000)\n",
    "    model.fit(train_x,train_y)\n",
    "    print(\"LinearSVR Regression : \",r2_score(dev_y,model.predict(dev_x)),mean_absolute_error(dev_y,model.predict(dev_x)),mean_squared_error(dev_y,model.predict(dev_x)))\n",
    "    print()\n",
    "    \n",
    "    model=xgboost.XGBRegressor(n_estimators=10000)\n",
    "    model.fit(train_x,train_y)\n",
    "    print(\"XGBoost Regression : \",r2_score(dev_y,model.predict(dev_x)),mean_absolute_error(dev_y,model.predict(dev_x)),mean_squared_error(dev_y,model.predict(dev_x)))\n",
    "    print()\n",
    "    \n",
    "    model=lightgbm.LGBMRegressor(n_estimators=10000,learning_rate=0.001)\n",
    "    model.fit(train_x,train_y)\n",
    "    print(\"Light gbm Regression : \",r2_score(dev_y,model.predict(dev_x)),mean_absolute_error(dev_y,model.predict(dev_x)),mean_squared_error(dev_y,model.predict(dev_x)))\n",
    "    print()\n",
    "    \n",
    "    \n",
    "    \n",
    "train_x,dev_x,train_y,dev_y=train_test_split(data.drop(columns=['PLAYER','2019_Runs']),data['2019_Runs'],random_state=1,\n",
    "                                             test_size=0.2)"
   ]
  },
  {
   "attachments": {
    "image.png": {
     "image/png": "[encoded data removed]"
    }
   },
   "cell_type": "markdown",
   "metadata": {},
   "source": [
    "\n",
    "![image.png](attachment:image.png) "
   ]
  },
  {
   "cell_type": "markdown",
   "metadata": {},
   "source": [
    "# Visualizing\n"
   ]
  },
  {
   "cell_type": "code",
   "execution_count": 201,
   "metadata": {},
   "outputs": [
    {
     "data": {
      "text/plain": [
       "[<matplotlib.lines.Line2D at 0x225c8dec5c0>]"
      ]
     },
     "execution_count": 201,
     "metadata": {},
     "output_type": "execute_result"
    },
    {
     "data": {
      "image/png": "[encoded data removed]",
      "text/plain": [
       "<Figure size 432x288 with 1 Axes>"
      ]
     },
     "metadata": {
      "needs_background": "light"
     },
     "output_type": "display_data"
    }
   ],
   "source": [
    "#highly correlated\n",
    "plt.plot(data['2018_Runs'])\n",
    "plt.plot(data['2019_Runs'])"
   ]
  },
  {
   "cell_type": "code",
   "execution_count": 202,
   "metadata": {},
   "outputs": [
    {
     "data": {
      "text/plain": [
       "<AxesSubplot:>"
      ]
     },
     "execution_count": 202,
     "metadata": {},
     "output_type": "execute_result"
    },
    {
     "data": {
      "image/png": "[encoded data removed]",
      "text/plain": [
       "<Figure size 432x288 with 2 Axes>"
      ]
     },
     "metadata": {
      "needs_background": "light"
     },
     "output_type": "display_data"
    }
   ],
   "source": [
    "# Corr Heatmap\n",
    "sns.heatmap(data.corr())  "
   ]
  },
  {
   "cell_type": "markdown",
   "metadata": {},
   "source": [
    "## Based on correaltion"
   ]
  },
  {
   "cell_type": "code",
   "execution_count": 203,
   "metadata": {},
   "outputs": [
    {
     "name": "stdout",
     "output_type": "stream",
     "text": [
      "Linear Regression :  0.9771795528046363 19.10000975316181 591.2241587809647\n",
      "\n",
      "Random Forest Regression :  0.9934723878854316 9.198 169.11509000000004\n",
      "\n",
      "SVM Regression :  0.9909606262653836 8.393083634366457 234.18893093563548\n",
      "\n",
      "LinearSVR Regression :  0.9615493512040465 23.803193927737613 996.1659512784852\n",
      "\n",
      "XGBoost Regression :  0.9948413323165801 8.381760311126708 133.6489568083519\n",
      "\n",
      "Light gbm Regression :  0.9916442007075728 12.021036686218412 216.47912353845246\n",
      "\n"
     ]
    }
   ],
   "source": [
    "#HS_out,100,SR,NO are less correlated to 2019\n",
    "#2018_runs correlated with 4s and BF\n",
    "# can try removing less correlated features and also 4s and BF\n",
    "get_results(train_x,train_y,dev_x,dev_y)"
   ]
  },
  {
   "cell_type": "code",
   "execution_count": 204,
   "metadata": {},
   "outputs": [
    {
     "name": "stdout",
     "output_type": "stream",
     "text": [
      "Linear Regression :  0.971264457773023 21.074094339449935 744.4703705767408\n",
      "\n",
      "Random Forest Regression :  0.9918779879688046 10.290500000000002 210.42224500000012\n",
      "\n",
      "SVM Regression :  0.9919794407932088 8.105954961151747 207.79384073382386\n",
      "\n",
      "LinearSVR Regression :  0.9529527434308986 20.65381865381068 1218.8838566524776\n",
      "\n",
      "XGBoost Regression :  0.995434874723956 7.682132816314697 118.27166785790159\n",
      "\n",
      "Light gbm Regression :  0.9843257734131104 16.459479397601452 406.08237643382853\n",
      "\n"
     ]
    }
   ],
   "source": [
    "#including 4s gave better result\n",
    "#Best score increased from 99.48 to 99.54 (XGBOOST)\n",
    "\n",
    "get_results(train_x.drop(columns=['HS_out',100,'SR','NO','BF']),train_y,\n",
    "            dev_x.drop(columns=['HS_out',100,'SR','NO','BF']),dev_y)"
   ]
  },
  {
   "cell_type": "markdown",
   "metadata": {},
   "source": [
    "# Feature Selection"
   ]
  },
  {
   "cell_type": "markdown",
   "metadata": {},
   "source": [
    "The p-value for each term tests the null hypothesis that the coefficient is equal to zero (no effect). A low p-value (< 0.05) indicates that you can reject the null hypothesis. In other words, a predictor that has a low p-value is likely to be a meaningful addition to your model because changes in the predictor's value are related to changes in the response variable."
   ]
  },
  {
   "cell_type": "markdown",
   "metadata": {},
   "source": [
    "## OLS"
   ]
  },
  {
   "cell_type": "code",
   "execution_count": 208,
   "metadata": {},
   "outputs": [
    {
     "data": {
      "text/html": [
       "<table class=\"simpletable\">\n",
       "<caption>OLS Regression Results</caption>\n",
       "<tr>\n",
       "  <th>Dep. Variable:</th>        <td>2019_Runs</td>    <th>  R-squared (uncentered):</th>      <td>   0.993</td>\n",
       "</tr>\n",
       "<tr>\n",
       "  <th>Model:</th>                   <td>OLS</td>       <th>  Adj. R-squared (uncentered):</th> <td>   0.993</td>\n",
       "</tr>\n",
       "<tr>\n",
       "  <th>Method:</th>             <td>Least Squares</td>  <th>  F-statistic:       </th>          <td>   2182.</td>\n",
       "</tr>\n",
       "<tr>\n",
       "  <th>Date:</th>             <td>Sun, 18 Oct 2020</td> <th>  Prob (F-statistic):</th>          <td>1.09e-79</td>\n",
       "</tr>\n",
       "<tr>\n",
       "  <th>Time:</th>                 <td>20:20:58</td>     <th>  Log-Likelihood:    </th>          <td> -358.59</td>\n",
       "</tr>\n",
       "<tr>\n",
       "  <th>No. Observations:</th>      <td>    80</td>      <th>  AIC:               </th>          <td>   727.2</td>\n",
       "</tr>\n",
       "<tr>\n",
       "  <th>Df Residuals:</th>          <td>    75</td>      <th>  BIC:               </th>          <td>   739.1</td>\n",
       "</tr>\n",
       "<tr>\n",
       "  <th>Df Model:</th>              <td>     5</td>      <th>                     </th>              <td> </td>   \n",
       "</tr>\n",
       "<tr>\n",
       "  <th>Covariance Type:</th>      <td>nonrobust</td>    <th>                     </th>              <td> </td>   \n",
       "</tr>\n",
       "</table>\n",
       "<table class=\"simpletable\">\n",
       "<tr>\n",
       "      <td></td>         <th>coef</th>     <th>std err</th>      <th>t</th>      <th>P>|t|</th>  <th>[0.025</th>    <th>0.975]</th>  \n",
       "</tr>\n",
       "<tr>\n",
       "  <th>Inns</th>      <td>    4.2544</td> <td>    1.166</td> <td>    3.647</td> <td> 0.000</td> <td>    1.931</td> <td>    6.578</td>\n",
       "</tr>\n",
       "<tr>\n",
       "  <th>2018_Runs</th> <td>    0.8587</td> <td>    0.054</td> <td>   15.834</td> <td> 0.000</td> <td>    0.751</td> <td>    0.967</td>\n",
       "</tr>\n",
       "<tr>\n",
       "  <th>HS</th>        <td>    0.4820</td> <td>    0.179</td> <td>    2.689</td> <td> 0.009</td> <td>    0.125</td> <td>    0.839</td>\n",
       "</tr>\n",
       "<tr>\n",
       "  <th>SR</th>        <td>   -0.2144</td> <td>    0.058</td> <td>   -3.698</td> <td> 0.000</td> <td>   -0.330</td> <td>   -0.099</td>\n",
       "</tr>\n",
       "<tr>\n",
       "  <th>50</th>        <td>   -8.7229</td> <td>    4.061</td> <td>   -2.148</td> <td> 0.035</td> <td>  -16.813</td> <td>   -0.633</td>\n",
       "</tr>\n",
       "</table>\n",
       "<table class=\"simpletable\">\n",
       "<tr>\n",
       "  <th>Omnibus:</th>       <td> 0.321</td> <th>  Durbin-Watson:     </th> <td>   2.306</td>\n",
       "</tr>\n",
       "<tr>\n",
       "  <th>Prob(Omnibus):</th> <td> 0.852</td> <th>  Jarque-Bera (JB):  </th> <td>   0.158</td>\n",
       "</tr>\n",
       "<tr>\n",
       "  <th>Skew:</th>          <td> 0.109</td> <th>  Prob(JB):          </th> <td>   0.924</td>\n",
       "</tr>\n",
       "<tr>\n",
       "  <th>Kurtosis:</th>      <td> 3.010</td> <th>  Cond. No.          </th> <td>    495.</td>\n",
       "</tr>\n",
       "</table><br/><br/>Warnings:<br/>[1] Standard Errors assume that the covariance matrix of the errors is correctly specified."
      ],
      "text/plain": [
       "<class 'statsmodels.iolib.summary.Summary'>\n",
       "\"\"\"\n",
       "                                 OLS Regression Results                                \n",
       "=======================================================================================\n",
       "Dep. Variable:              2019_Runs   R-squared (uncentered):                   0.993\n",
       "Model:                            OLS   Adj. R-squared (uncentered):              0.993\n",
       "Method:                 Least Squares   F-statistic:                              2182.\n",
       "Date:                Sun, 18 Oct 2020   Prob (F-statistic):                    1.09e-79\n",
       "Time:                        20:20:58   Log-Likelihood:                         -358.59\n",
       "No. Observations:                  80   AIC:                                      727.2\n",
       "Df Residuals:                      75   BIC:                                      739.1\n",
       "Df Model:                           5                                                  \n",
       "Covariance Type:            nonrobust                                                  \n",
       "==============================================================================\n",
       "                 coef    std err          t      P>|t|      [0.025      0.975]\n",
       "------------------------------------------------------------------------------\n",
       "Inns           4.2544      1.166      3.647      0.000       1.931       6.578\n",
       "2018_Runs      0.8587      0.054     15.834      0.000       0.751       0.967\n",
       "HS             0.4820      0.179      2.689      0.009       0.125       0.839\n",
       "SR            -0.2144      0.058     -3.698      0.000      -0.330      -0.099\n",
       "50            -8.7229      4.061     -2.148      0.035     -16.813      -0.633\n",
       "==============================================================================\n",
       "Omnibus:                        0.321   Durbin-Watson:                   2.306\n",
       "Prob(Omnibus):                  0.852   Jarque-Bera (JB):                0.158\n",
       "Skew:                           0.109   Prob(JB):                        0.924\n",
       "Kurtosis:                       3.010   Cond. No.                         495.\n",
       "==============================================================================\n",
       "\n",
       "Warnings:\n",
       "[1] Standard Errors assume that the covariance matrix of the errors is correctly specified.\n",
       "\"\"\""
      ]
     },
     "execution_count": 208,
     "metadata": {},
     "output_type": "execute_result"
    }
   ],
   "source": [
    "#based on p value of OLS following features are rejected -> 'HS_out','BF','6s','Mat','Avg','4s'\n",
    "s=sm.OLS(train_y,train_x.drop(columns=['HS_out','BF','6s','Mat','Avg','4s',100,'NO'])).fit()\n",
    "s.summary()"
   ]
  },
  {
   "cell_type": "code",
   "execution_count": 209,
   "metadata": {},
   "outputs": [
    {
     "name": "stdout",
     "output_type": "stream",
     "text": [
      "Linear Regression :  0.9771795528046363 19.10000975316181 591.2241587809647\n",
      "\n",
      "Random Forest Regression :  0.9915313646741406 10.467999999999995 219.40243999999984\n",
      "\n",
      "SVM Regression :  0.9909606262653836 8.393083634366457 234.18893093563548\n",
      "\n",
      "LinearSVR Regression :  0.9291585659778513 25.526392900768457 1835.3350781439217\n",
      "\n",
      "XGBoost Regression :  0.9948413323165801 8.381760311126708 133.6489568083519\n",
      "\n",
      "Light gbm Regression :  0.9916442007075728 12.021036686218412 216.47912353845246\n",
      "\n"
     ]
    }
   ],
   "source": [
    "get_results(train_x,train_y,dev_x,dev_y)"
   ]
  },
  {
   "cell_type": "code",
   "execution_count": 217,
   "metadata": {},
   "outputs": [
    {
     "name": "stdout",
     "output_type": "stream",
     "text": [
      "Linear Regression :  0.9715228915238822 21.197175658202553 737.7749594112937\n",
      "\n",
      "Random Forest Regression :  0.9950914278215122 7.179999999999998 127.16956999999998\n",
      "\n",
      "SVM Regression :  0.9884297308625333 9.81199714911848 299.758483219289\n",
      "\n",
      "LinearSVR Regression :  0.9455313651502352 26.737584799908895 1411.1543276655107\n",
      "\n",
      "XGBoost Regression :  0.9935379678500496 9.690408420562743 167.4160672296639\n",
      "\n",
      "Light gbm Regression :  0.9847002023383085 16.87833829143701 396.38180288992265\n",
      "\n"
     ]
    }
   ],
   "source": [
    "#best score inc from 99.48 to 99.55 (Random Forest)\n",
    "col=['HS_out','BF','6s','Mat','Avg','4s',100,'NO']\n",
    "get_results(train_x.drop(columns=col),train_y,dev_x.drop(columns=col),dev_y)"
   ]
  },
  {
   "cell_type": "markdown",
   "metadata": {},
   "source": [
    "## RFE (To be done)"
   ]
  },
  {
   "cell_type": "code",
   "execution_count": 398,
   "metadata": {},
   "outputs": [],
   "source": [
    "# selector = RFE(xgboost.XGBRegressor(n_estimators=10000), n_features_to_select=6, step=1)\n",
    "# selector = selector.fit(train_x, train_y)\n",
    "# r2_score(dev_y,selector.predict(dev_x))"
   ]
  },
  {
   "cell_type": "code",
   "execution_count": 399,
   "metadata": {
    "scrolled": true
   },
   "outputs": [],
   "source": [
    "# selector.support_,selector.ranking_"
   ]
  },
  {
   "cell_type": "code",
   "execution_count": 400,
   "metadata": {},
   "outputs": [],
   "source": [
    "# selector = RFE(RandomForestRegressor(), n_features_to_select=1, step=1)\n",
    "# selector = selector.fit(train_x, train_y)\n",
    "# r2_score(dev_y,selector.predict(dev_x))"
   ]
  },
  {
   "cell_type": "code",
   "execution_count": 401,
   "metadata": {},
   "outputs": [],
   "source": [
    "# RandomForestRegressor()"
   ]
  },
  {
   "cell_type": "code",
   "execution_count": 402,
   "metadata": {},
   "outputs": [],
   "source": [
    "# train_x.shape"
   ]
  },
  {
   "cell_type": "code",
   "execution_count": null,
   "metadata": {},
   "outputs": [],
   "source": []
  },
  {
   "cell_type": "code",
   "execution_count": null,
   "metadata": {},
   "outputs": [],
   "source": []
  },
  {
   "cell_type": "markdown",
   "metadata": {},
   "source": [
    "## prediction (ensemble of Random Forest and XGBOOST)"
   ]
  },
  {
   "cell_type": "code",
   "execution_count": 377,
   "metadata": {},
   "outputs": [],
   "source": [
    "data=pd.read_excel(\"./Data.xlsx\",sheet_name=0)\n",
    "test_data=pd.read_excel(\"./Data.xlsx\",sheet_name=1)\n",
    "# data_y=data['2019_Runs']\n",
    "# data=data.drop(columns=['PLAYER','2019_Runs'])"
   ]
  },
  {
   "cell_type": "code",
   "execution_count": 378,
   "metadata": {},
   "outputs": [],
   "source": [
    "test_data=test_data=high_score_process(test_data)\n",
    "data=high_score_process(data)\n",
    "\n",
    "test_data.columns=[   'PLAYER',       'Mat',      'Inns',        'NO', '2018_Runs',\n",
    "              'HS',       'Avg',        'BF',        'SR',         100,\n",
    "                50,        '4s',        '6s',    'HS_out']"
   ]
  },
  {
   "cell_type": "code",
   "execution_count": 379,
   "metadata": {},
   "outputs": [],
   "source": [
    "    \n",
    "train_x,dev_x,train_y,dev_y=train_test_split(data.drop(columns=['PLAYER','2019_Runs']),data['2019_Runs'],random_state=1,\n",
    "                                             test_size=0.2)"
   ]
  },
  {
   "cell_type": "code",
   "execution_count": 380,
   "metadata": {},
   "outputs": [
    {
     "data": {
      "text/plain": [
       "0.9952898435404215"
      ]
     },
     "execution_count": 380,
     "metadata": {},
     "output_type": "execute_result"
    }
   ],
   "source": [
    "col1=['HS_out','BF','6s','Mat','Avg','4s',100,'NO']\n",
    "# get_results(train_x.drop(columns=col),train_y,dev_x.drop(columns=col),dev_y)\n",
    "\n",
    "model1=RandomForestRegressor(random_state=3)\n",
    "model1.fit(train_x.drop(columns=col1),train_y)\n",
    "model1.score(dev_x.drop(columns=col1),dev_y)"
   ]
  },
  {
   "cell_type": "code",
   "execution_count": 381,
   "metadata": {},
   "outputs": [],
   "source": [
    "#training on diff train and dev data\n",
    "train_x,dev_x,train_y,dev_y=train_test_split(data.drop(columns=['PLAYER','2019_Runs']),data['2019_Runs'],random_state=2,\n",
    "                                             test_size=0.2)"
   ]
  },
  {
   "cell_type": "code",
   "execution_count": 382,
   "metadata": {},
   "outputs": [
    {
     "data": {
      "text/plain": [
       "0.9984349457747841"
      ]
     },
     "execution_count": 382,
     "metadata": {},
     "output_type": "execute_result"
    }
   ],
   "source": [
    "col2=['HS_out',100,'SR','NO','BF']\n",
    "model2=xgboost.XGBRegressor(n_estimators=10000,random_state=1)\n",
    "model2.fit(train_x.drop(columns=col2),train_y)\n",
    "model2.score(dev_x.drop(columns=col2),dev_y)"
   ]
  },
  {
   "cell_type": "code",
   "execution_count": 387,
   "metadata": {},
   "outputs": [],
   "source": [
    "ans=(model1.predict(test_data.drop(columns=col1+['PLAYER']))+model2.predict(test_data.drop(columns=col2+['PLAYER'])))/2"
   ]
  },
  {
   "cell_type": "code",
   "execution_count": 388,
   "metadata": {},
   "outputs": [],
   "source": [
    "test_data['Total Runs in IPL 2020']=ans"
   ]
  },
  {
   "cell_type": "code",
   "execution_count": 391,
   "metadata": {},
   "outputs": [],
   "source": [
    "test_data['Total Runs in IPL 2020']=test_data['Total Runs in IPL 2020'].apply(lambda x : round(x))"
   ]
  },
  {
   "cell_type": "code",
   "execution_count": 392,
   "metadata": {},
   "outputs": [
    {
     "data": {
      "text/html": [
       "<div>\n",
       "<style scoped>\n",
       "    .dataframe tbody tr th:only-of-type {\n",
       "        vertical-align: middle;\n",
       "    }\n",
       "\n",
       "    .dataframe tbody tr th {\n",
       "        vertical-align: top;\n",
       "    }\n",
       "\n",
       "    .dataframe thead th {\n",
       "        text-align: right;\n",
       "    }\n",
       "</style>\n",
       "<table border=\"1\" class=\"dataframe\">\n",
       "  <thead>\n",
       "    <tr style=\"text-align: right;\">\n",
       "      <th></th>\n",
       "      <th>PLAYER</th>\n",
       "      <th>Mat</th>\n",
       "      <th>Inns</th>\n",
       "      <th>NO</th>\n",
       "      <th>2018_Runs</th>\n",
       "      <th>HS</th>\n",
       "      <th>Avg</th>\n",
       "      <th>BF</th>\n",
       "      <th>SR</th>\n",
       "      <th>100</th>\n",
       "      <th>50</th>\n",
       "      <th>4s</th>\n",
       "      <th>6s</th>\n",
       "      <th>HS_out</th>\n",
       "      <th>Total Runs in IPL 2020</th>\n",
       "    </tr>\n",
       "  </thead>\n",
       "  <tbody>\n",
       "    <tr>\n",
       "      <th>0</th>\n",
       "      <td>David Warner</td>\n",
       "      <td>12</td>\n",
       "      <td>12</td>\n",
       "      <td>2</td>\n",
       "      <td>692</td>\n",
       "      <td>100</td>\n",
       "      <td>69.20</td>\n",
       "      <td>481</td>\n",
       "      <td>143.86</td>\n",
       "      <td>1</td>\n",
       "      <td>8</td>\n",
       "      <td>57</td>\n",
       "      <td>21</td>\n",
       "      <td>1</td>\n",
       "      <td>587</td>\n",
       "    </tr>\n",
       "    <tr>\n",
       "      <th>1</th>\n",
       "      <td>KL Rahul</td>\n",
       "      <td>14</td>\n",
       "      <td>14</td>\n",
       "      <td>3</td>\n",
       "      <td>593</td>\n",
       "      <td>100</td>\n",
       "      <td>53.90</td>\n",
       "      <td>438</td>\n",
       "      <td>135.38</td>\n",
       "      <td>1</td>\n",
       "      <td>6</td>\n",
       "      <td>49</td>\n",
       "      <td>25</td>\n",
       "      <td>1</td>\n",
       "      <td>514</td>\n",
       "    </tr>\n",
       "    <tr>\n",
       "      <th>2</th>\n",
       "      <td>Quinton de Kock</td>\n",
       "      <td>16</td>\n",
       "      <td>16</td>\n",
       "      <td>1</td>\n",
       "      <td>529</td>\n",
       "      <td>81</td>\n",
       "      <td>35.26</td>\n",
       "      <td>398</td>\n",
       "      <td>132.91</td>\n",
       "      <td>0</td>\n",
       "      <td>4</td>\n",
       "      <td>45</td>\n",
       "      <td>25</td>\n",
       "      <td>0</td>\n",
       "      <td>477</td>\n",
       "    </tr>\n",
       "    <tr>\n",
       "      <th>3</th>\n",
       "      <td>Shikhar Dhawan</td>\n",
       "      <td>16</td>\n",
       "      <td>16</td>\n",
       "      <td>1</td>\n",
       "      <td>521</td>\n",
       "      <td>97</td>\n",
       "      <td>34.73</td>\n",
       "      <td>384</td>\n",
       "      <td>135.67</td>\n",
       "      <td>0</td>\n",
       "      <td>5</td>\n",
       "      <td>64</td>\n",
       "      <td>11</td>\n",
       "      <td>1</td>\n",
       "      <td>476</td>\n",
       "    </tr>\n",
       "    <tr>\n",
       "      <th>4</th>\n",
       "      <td>Andre Russell</td>\n",
       "      <td>14</td>\n",
       "      <td>13</td>\n",
       "      <td>4</td>\n",
       "      <td>510</td>\n",
       "      <td>80</td>\n",
       "      <td>56.66</td>\n",
       "      <td>249</td>\n",
       "      <td>204.81</td>\n",
       "      <td>0</td>\n",
       "      <td>4</td>\n",
       "      <td>31</td>\n",
       "      <td>52</td>\n",
       "      <td>1</td>\n",
       "      <td>469</td>\n",
       "    </tr>\n",
       "    <tr>\n",
       "      <th>...</th>\n",
       "      <td>...</td>\n",
       "      <td>...</td>\n",
       "      <td>...</td>\n",
       "      <td>...</td>\n",
       "      <td>...</td>\n",
       "      <td>...</td>\n",
       "      <td>...</td>\n",
       "      <td>...</td>\n",
       "      <td>...</td>\n",
       "      <td>...</td>\n",
       "      <td>...</td>\n",
       "      <td>...</td>\n",
       "      <td>...</td>\n",
       "      <td>...</td>\n",
       "      <td>...</td>\n",
       "    </tr>\n",
       "    <tr>\n",
       "      <th>95</th>\n",
       "      <td>Carlos Brathwaite</td>\n",
       "      <td>2</td>\n",
       "      <td>2</td>\n",
       "      <td>0</td>\n",
       "      <td>11</td>\n",
       "      <td>6</td>\n",
       "      <td>5.50</td>\n",
       "      <td>10</td>\n",
       "      <td>110.00</td>\n",
       "      <td>0</td>\n",
       "      <td>0</td>\n",
       "      <td>1</td>\n",
       "      <td>0</td>\n",
       "      <td>0</td>\n",
       "      <td>10</td>\n",
       "    </tr>\n",
       "    <tr>\n",
       "      <th>96</th>\n",
       "      <td>Ishant Sharma</td>\n",
       "      <td>13</td>\n",
       "      <td>3</td>\n",
       "      <td>3</td>\n",
       "      <td>10</td>\n",
       "      <td>10</td>\n",
       "      <td>0.00</td>\n",
       "      <td>3</td>\n",
       "      <td>333.33</td>\n",
       "      <td>0</td>\n",
       "      <td>0</td>\n",
       "      <td>1</td>\n",
       "      <td>1</td>\n",
       "      <td>1</td>\n",
       "      <td>10</td>\n",
       "    </tr>\n",
       "    <tr>\n",
       "      <th>97</th>\n",
       "      <td>Shakib Al Hasan</td>\n",
       "      <td>3</td>\n",
       "      <td>1</td>\n",
       "      <td>0</td>\n",
       "      <td>9</td>\n",
       "      <td>9</td>\n",
       "      <td>9.00</td>\n",
       "      <td>10</td>\n",
       "      <td>90.00</td>\n",
       "      <td>0</td>\n",
       "      <td>0</td>\n",
       "      <td>0</td>\n",
       "      <td>0</td>\n",
       "      <td>0</td>\n",
       "      <td>10</td>\n",
       "    </tr>\n",
       "    <tr>\n",
       "      <th>98</th>\n",
       "      <td>Pawan Negi</td>\n",
       "      <td>7</td>\n",
       "      <td>4</td>\n",
       "      <td>0</td>\n",
       "      <td>9</td>\n",
       "      <td>5</td>\n",
       "      <td>2.25</td>\n",
       "      <td>12</td>\n",
       "      <td>75.00</td>\n",
       "      <td>0</td>\n",
       "      <td>0</td>\n",
       "      <td>1</td>\n",
       "      <td>0</td>\n",
       "      <td>0</td>\n",
       "      <td>9</td>\n",
       "    </tr>\n",
       "    <tr>\n",
       "      <th>99</th>\n",
       "      <td>Tim Southee</td>\n",
       "      <td>3</td>\n",
       "      <td>1</td>\n",
       "      <td>1</td>\n",
       "      <td>9</td>\n",
       "      <td>9</td>\n",
       "      <td>0.00</td>\n",
       "      <td>9</td>\n",
       "      <td>100.00</td>\n",
       "      <td>0</td>\n",
       "      <td>0</td>\n",
       "      <td>0</td>\n",
       "      <td>0</td>\n",
       "      <td>1</td>\n",
       "      <td>10</td>\n",
       "    </tr>\n",
       "  </tbody>\n",
       "</table>\n",
       "<p>100 rows × 15 columns</p>\n",
       "</div>"
      ],
      "text/plain": [
       "               PLAYER  Mat  Inns  NO  2018_Runs   HS    Avg   BF      SR  100  \\\n",
       "0        David Warner   12    12   2        692  100  69.20  481  143.86    1   \n",
       "1            KL Rahul   14    14   3        593  100  53.90  438  135.38    1   \n",
       "2     Quinton de Kock   16    16   1        529   81  35.26  398  132.91    0   \n",
       "3      Shikhar Dhawan   16    16   1        521   97  34.73  384  135.67    0   \n",
       "4       Andre Russell   14    13   4        510   80  56.66  249  204.81    0   \n",
       "..                ...  ...   ...  ..        ...  ...    ...  ...     ...  ...   \n",
       "95  Carlos Brathwaite    2     2   0         11    6   5.50   10  110.00    0   \n",
       "96      Ishant Sharma   13     3   3         10   10   0.00    3  333.33    0   \n",
       "97    Shakib Al Hasan    3     1   0          9    9   9.00   10   90.00    0   \n",
       "98         Pawan Negi    7     4   0          9    5   2.25   12   75.00    0   \n",
       "99        Tim Southee    3     1   1          9    9   0.00    9  100.00    0   \n",
       "\n",
       "    50  4s  6s  HS_out  Total Runs in IPL 2020  \n",
       "0    8  57  21       1                     587  \n",
       "1    6  49  25       1                     514  \n",
       "2    4  45  25       0                     477  \n",
       "3    5  64  11       1                     476  \n",
       "4    4  31  52       1                     469  \n",
       "..  ..  ..  ..     ...                     ...  \n",
       "95   0   1   0       0                      10  \n",
       "96   0   1   1       1                      10  \n",
       "97   0   0   0       0                      10  \n",
       "98   0   1   0       0                       9  \n",
       "99   0   0   0       1                      10  \n",
       "\n",
       "[100 rows x 15 columns]"
      ]
     },
     "execution_count": 392,
     "metadata": {},
     "output_type": "execute_result"
    }
   ],
   "source": [
    "test_data"
   ]
  },
  {
   "cell_type": "code",
   "execution_count": 396,
   "metadata": {},
   "outputs": [],
   "source": [
    "test_data.loc[:,['PLAYER','Total Runs in IPL 2020']].to_csv(\"./submission.csv\")"
   ]
  },
  {
   "cell_type": "markdown",
   "metadata": {},
   "source": [
    "\n",
    "## Future Steps\n",
    "1. Feature Engineering\n",
    "2. Cross featuring\n",
    "3. Data Augmentation"
   ]
  },
  {
   "cell_type": "code",
   "execution_count": null,
   "metadata": {},
   "outputs": [],
   "source": []
  }
 ],
 "metadata": {
  "kernelspec": {
   "display_name": "Python 3",
   "language": "python",
   "name": "python3"
  },
  "language_info": {
   "codemirror_mode": {
    "name": "ipython",
    "version": 3
   },
   "file_extension": ".py",
   "mimetype": "text/x-python",
   "name": "python",
   "nbconvert_exporter": "python",
   "pygments_lexer": "ipython3",
   "version": "3.6.5"
  }
 },
 "nbformat": 4,
 "nbformat_minor": 4
}
